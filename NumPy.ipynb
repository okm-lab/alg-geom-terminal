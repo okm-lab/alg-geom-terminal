{
 "cells": [
  {
   "cell_type": "markdown",
   "metadata": {},
   "source": [
    "## Знакомство с библиотеками для анализа данных. NumPy\n",
    "\n",
    "Результат лабораторной работы − отчет в формате ноутбука Jupyter (ipynb-файл). Постарайтесь сделать ваш отчет интересным рассказом, последовательно отвечающим на вопросы из заданий. Помимо ответов на вопросы, в отчете так же должен быть код, однако чем меньше кода, тем лучше всем: нам − меньше проверять, вам —  проще найти ошибку или дополнить эксперимент. При проверке оценивается четкость ответов на вопросы, аккуратность отчета и кода.\n",
    "\n",
    "### О задании\n",
    "\n",
    "Лабораторные работы \"NumPy\" и \"Pandas\" направлены на работу с пакетами NumPy, Pandas и Matplotlib путём решения набора задач (да, алгебры и геометрии тут почти нет). В данных заданиях разрешено пользоваться только стандартной библиотекой языка Python, а также пакетами NumPy, Pandas и Matplotlib. Целью заданий является редактирование данного jupyter notebook-a (в части блоков с кодом на python) таким образом, чтобы были реализованы указанные в заданиях функции.\n",
    "\n",
    "\n",
    "### Оценивание и штрафы\n",
    "\n",
    "* Каждая из задач имеет определенную «стоимость» (указана в скобках около задачи)\n",
    "* «Похожие» решения считаются плагиатом и все задействованные студенты (в том числе те, у кого списали) не могут получить за него больше 0 баллов\n",
    "* Если вы нашли решение какого-то из заданий в открытом источнике, необходимо добавить ссылку на этот источник (скорее всего вы будете не единственным, кто это нашел, поэтому чтобы исключить подозрение в плагиате, необходима ссылка на источник)\n",
    "* Не оцениваются задания с удалёнными формулировками\n",
    "* Не оценивается лабораторная работа целиком, если она была выложена в открытый источник\n",
    "\n",
    "###  Правила сдачи\n",
    "\n",
    "Работу необходимо сдавать, загрузив в свой приватный репозиторий и сообщив об этом в телеграм @xrzvs (или просто открыв доступ к ноутбуку в Google Colab; более подробную информацию смотрите в README.md). "
   ]
  },
  {
   "cell_type": "markdown",
   "metadata": {},
   "source": [
    "### Знакомство с Numpy\n",
    "\n",
    "Во всех заданиях данного ноутбука **запрещено** использовать циклы (ключевые слова *for* и *while*), [list comprehension](https://habrahabr.ru/post/30232/), [map и т.п.](http://pythonicway.com/python-functinal-programming)\n",
    "\n",
    "Для каждой задачи приведите примеры использования реализованных функций. Без примеров баллы за задание будут снижены в 2 раза, примеры должны отличаться от тех что приведены в самом задании\n",
    "\n",
    "Под матрицей в заданиях понимается двумерный [numpy.array](https://docs.scipy.org/doc/numpy/reference/generated/numpy.array.html)"
   ]
  },
  {
   "cell_type": "code",
   "execution_count": 2,
   "metadata": {},
   "outputs": [],
   "source": [
    "import numpy as np"
   ]
  },
  {
   "cell_type": "markdown",
   "metadata": {},
   "source": [
    "**(0.25 балла) Задание 1.** Реализуйте функцию, принимающую на вход матрицу ```X``` и два массива индексов ```indices1``` и ```indices2``` одинаковой длины и возвращающую np.array, состоящий из последовательности элементов \n",
    "\n",
    "```[X[indices1[0], indices2[0]], ... , X[indices1[N-1], indices2[N-1]]]```"
   ]
  },
  {
   "cell_type": "code",
   "execution_count": 5,
   "metadata": {},
   "outputs": [
    {
     "data": {
      "text/plain": [
       "array([ 9, 25, 41])"
      ]
     },
     "execution_count": 5,
     "metadata": {},
     "output_type": "execute_result"
    }
   ],
   "source": [
    "a1 = np.array([1, 3, 5])\n",
    "a2 = np.array([2, 4, 6])\n",
    "x = np.arange(49).reshape(7, 7)\n",
    "\n",
    "\n",
    "def construct_array(X, indices1, indices2):\n",
    "    return X[indices1, indices2]\n",
    "\n",
    "\n",
    "\n",
    "assert np.allclose (construct_array(np.array([[1,2,3], [4,5,6], [7,8,9], [10, 11, 12]]), [1, 2, 3], [2, 1, 0]), np.array([6,8, 10]))\n",
    "construct_array(x, a1, a2)\n",
    "# Level1: всё просто (хотя для многих это неочевидно, они пытаются искать сложности там, где их нет)"
   ]
  },
  {
   "cell_type": "markdown",
   "metadata": {},
   "source": [
    "**(0.25 балла) Задача 2.** Реализуйте функцию, которая на вход принимает два массива ```X``` и ```Y``` (массивы могут быть n-мерные, но их размерности должны совпадать), а возвращает **True** если они равны и **False** - иначе."
   ]
  },
  {
   "cell_type": "code",
   "execution_count": 6,
   "metadata": {},
   "outputs": [
    {
     "data": {
      "text/plain": [
       "False"
      ]
     },
     "execution_count": 6,
     "metadata": {},
     "output_type": "execute_result"
    }
   ],
   "source": [
    "a1 = np.array([[1, 2, 3], [4, 5, 6], [7, 8, 9]])\n",
    "a2 = np.array([[1, 2, 3], [4, 5, 6], [7, 8, 9]])\n",
    "a3 = np.array([[[1, 2],\n",
    "                [3, 4], \n",
    "                [5, 6], \n",
    "                [7, 8], \n",
    "                [9, 10], \n",
    "                [11, 12], \n",
    "                [13, 14], \n",
    "                [15, 16]]])\n",
    "a4 = np.array([[[1, 2],\n",
    "                [3, 4], \n",
    "                [5, 6], \n",
    "                [7, 8], \n",
    "                [9, 10], \n",
    "                [11, 12], \n",
    "                [13, 14],\n",
    "                [14, 15]]])\n",
    "\n",
    "def detect_identic(X, Y):\n",
    "    return not np.any((X != Y))\n",
    "assert np.allclose (detect_identic(np.array([[1,2,3], [4,5,6], [7,8,9], [10, 11, 12]]), np.array([[1,2,3], [4,5,6], [7,8,9], [10, 11, 11]])), False)\n",
    "assert np.allclose (detect_identic(np.array([[1,2,3], [4,5,6], [7,8,9], [10, 11, 12]]), np.array([[1,2,3], [4,5,6], [7,8,9], [10, 11, 12]])), True)\n",
    "detect_identic(a3, a4)\n",
    "\n",
    "# Level 2: Отрицание от логического \"Или\""
   ]
  },
  {
   "cell_type": "markdown",
   "metadata": {},
   "source": [
    "**(0.25 балла) Задание 3.** Реализуйте функцию, которая на вход принимает цветное изображение ```X``` (трехмерный вектор размера (n, m, 3)) и возвращает среднее значение по трём каналам (вектор длины 3)."
   ]
  },
  {
   "cell_type": "code",
   "execution_count": 21,
   "metadata": {
    "scrolled": true
   },
   "outputs": [
    {
     "data": {
      "text/plain": [
       "array([43.5, 44.5, 45.5])"
      ]
     },
     "execution_count": 21,
     "metadata": {},
     "output_type": "execute_result"
    }
   ],
   "source": [
    "a = np.arange(60).reshape(2, 10, 3)\n",
    "\n",
    "\n",
    "def mean_channel(X):\n",
    "    return np.mean(X, axis=1)[1]\n",
    "\n",
    "\n",
    "assert np.allclose(mean_channel(np.arange(27).reshape((3, 3, 3))), np.array([12., 13., 14.]))\n",
    "\n",
    "mean_channel(a)\n",
    "\n",
    "# Level 3: Просто транспонируем и считаем средние"
   ]
  },
  {
   "cell_type": "markdown",
   "metadata": {},
   "source": [
    "**(0.25 балла) Задание 4. ** Реализуйте функцию, принимающую на вход матрицу ```X``` и некоторое число ```a``` и возвращающую ближайший к числу элемент матрицы.\n",
    "\n",
    "Например, для ```X = np.arange(0,10).reshape((2, 5))``` и ```a = 3.6``` ответом будет 4."
   ]
  },
  {
   "cell_type": "code",
   "execution_count": 24,
   "metadata": {},
   "outputs": [
    {
     "data": {
      "text/plain": [
       "3.2"
      ]
     },
     "execution_count": 24,
     "metadata": {},
     "output_type": "execute_result"
    }
   ],
   "source": [
    "a = np.array([[1,  2,  3.2,  4],\n",
    "              [5,  6,  7,  8], \n",
    "              [9, 10, 11, 12], \n",
    "              [13, 14, 15, 16]])\n",
    "value = 2.9\n",
    "def nearest_value(X, a):\n",
    "    return X[np.unravel_index(np.abs(X-a).argmin(), X.shape)]\n",
    "\n",
    "''' Level 4: Берем значение по индексу:\n",
    "             unravel index от минимального элемента из матрицы разностей\n",
    "'''\n",
    "\n",
    "assert np.allclose (nearest_value(np.arange(0,1000).reshape((10, 10, 10)), -1), 0)\n",
    "assert np.allclose (nearest_value(np.arange(0,1000).reshape((10, 10, 10)), 160.5), 160)\n",
    "assert np.allclose (nearest_value(np.arange(0,1000).reshape((10, 10, 10)), 160.6), 161)\n",
    "nearest_value(a, value)\n"
   ]
  },
  {
   "cell_type": "markdown",
   "metadata": {},
   "source": [
    "**(0.5 балла) Задача 5.** Реализуйте функцию, принимающую на вход два одномерных массива ```x``` и ```y``` и возвращающую матрицу, в которой первый массив соответствует первому столбцу матрицы, второй - второму.\n",
    "\n",
    "В этом задании **запрещается** пользоваться операцией транспонирования и рекомедуется воспользоваться методом [reshape](https://docs.scipy.org/doc/numpy-1.13.0/reference/generated/numpy.reshape.html)."
   ]
  },
  {
   "cell_type": "code",
   "execution_count": 100,
   "metadata": {},
   "outputs": [
    {
     "data": {
      "text/plain": [
       "array([[1, 2],\n",
       "       [2, 4],\n",
       "       [3, 6],\n",
       "       [4, 8]])"
      ]
     },
     "execution_count": 100,
     "metadata": {},
     "output_type": "execute_result"
    }
   ],
   "source": [
    "a1 = np.array([1, 2, 3, 4])\n",
    "a2 = np.array([2, 4, 6, 8])\n",
    "def construct_matrix(x, y):\n",
    "    return np.append(x.reshape(len(x), 1), y.reshape(len(y), 1), axis=1)\n",
    "assert np.allclose (construct_matrix(np.arange(0, 6), np.arange(6, 12)), np.array([[0, 6], [1, 7], [2, 8], [3, 9], [4, 10], [5, 11]]))\n",
    "construct_matrix(a1, a2)\n",
    "# Level 5: Аналог транспонирования через изменение формы\n",
    "# В задании не сказано, что делать, если массивы различной длины, поэтому считаем, что такой ситуации не будет\n"
   ]
  },
  {
   "cell_type": "markdown",
   "metadata": {},
   "source": [
    "**(0.5 балла) Задание 6.** Реализуйте функцию, которая на вход принимает вектор ```x```, содержащий целые числа, кроме 0, а возвращает вектор со вставленными нулями между числами.\n",
    "\n",
    "Например, из ```[1, -5, 3]``` получить ```[1, 0, -5, 0, 3]```"
   ]
  },
  {
   "cell_type": "code",
   "execution_count": 98,
   "metadata": {},
   "outputs": [
    {
     "data": {
      "text/plain": [
       "array([1., 0., 2., 0., 3., 0., 4., 0., 5., 0., 6., 0., 7., 0., 8., 0., 9.])"
      ]
     },
     "execution_count": 98,
     "metadata": {},
     "output_type": "execute_result"
    }
   ],
   "source": [
    "a1 = np.array([1, 2, 3, 4])\n",
    "def add_zeros(x):\n",
    "    return np.append(x.reshape(len(x), 1), np.zeros(len(x)).reshape(len(x), 1), axis=1) \\\n",
    "            .reshape(len(x)*2)[:-1]\n",
    "add_zeros(a1)\n",
    "# Level 6: По сути аналогично предыдущему заданию, только вставляем 0 и меняем форму обратно, убираем последний 0\n",
    "assert np.allclose (add_zeros(np.arange(1, 10)), np.array([1., 0., 2., 0., 3., 0., 4., 0., 5., 0., 6., 0., 7., 0., 8., 0., 9.]))\n",
    "assert np.allclose (add_zeros(np.array([1])), np.array([1]))\n",
    "assert np.allclose (add_zeros(np.array([])), np.array([]))\n",
    "add_zeros(np.arange(1, 10))"
   ]
  },
  {
   "cell_type": "markdown",
   "metadata": {},
   "source": [
    "**(0.75 балла) Задание 7.** Реализуйте функцию для подсчёта произведения ненулевых элементов на диагонали прямоугольной матрицы\n",
    "\n",
    "Например, для ```X = np.array([[1, 0, 1], [2, 0, 2], [3, 0, 3], [4, 4, 4]])``` ответом является 3. Если ненулевых элементов нет, функция должна возвращать ```None```."
   ]
  },
  {
   "cell_type": "code",
   "execution_count": 93,
   "metadata": {},
   "outputs": [],
   "source": [
    "def nonzero_product(X):\n",
    "    return X.diagonal()[X.diagonal().nonzero()].prod() \\\n",
    "            if len(X.diagonal()[X.diagonal().nonzero()]) else None\n",
    "a = np.array([[0, 0, 1, 2],\n",
    "              [2, 1, 2, 7], \n",
    "              [3, 0, 0, 9], \n",
    "              [4, 5, 6, 0]])\n",
    "# print(nonzero_product(a))\n",
    "#Level 7: Произведение элементов по индексам [мн-во миндексов диагональных элементов, \n",
    "#                                                                          не равных 0] \n",
    "assert np.allclose (nonzero_product(np.array([[3, 3, 3], [5, 5, 5], [7, 7, 0]])), 15)\n",
    "assert nonzero_product(np.array([[0, 3, 3], [5, 0, 5], [7, 7, 0]])) == None\n"
   ]
  },
  {
   "cell_type": "markdown",
   "metadata": {},
   "source": [
    "**(0.75 балла) Задание 8.** Реализуйте функцию, возвращающую максимальный элемент в массиве ```X``` среди элементов, перед которыми стоит нулевой.\n",
    "\n",
    "Например, для ```X = np.array([6, 2, 0, 3, 0, 0, 5, 7, 0])``` ответом является 5. Если подходящих элементов нет, функция должна возвращать ```None```."
   ]
  },
  {
   "cell_type": "code",
   "execution_count": 88,
   "metadata": {},
   "outputs": [
    {
     "name": "stdout",
     "output_type": "stream",
     "text": [
      "9 None\n"
     ]
    }
   ],
   "source": [
    "a = np.array([[100, 0, 1, 2],\n",
    "              [2, 1, 2, 7], \n",
    "              [3, 0, 0, 9], \n",
    "              [4, 5, 6, 0]]).reshape(16)\n",
    "b = np.array([1, 2, 3, 5, 1, 4, 2, 9, 1, 5, 11, 0])\n",
    "def max_element(X):\n",
    "    if sum(np.shape(np.where(X == 0))) == 1:\n",
    "        return None\n",
    "    a = np.append(X, 0)[np.where(X == 0)[0]+1]\n",
    "    return a[a.nonzero()].max() if np.any(a) else None\n",
    "          \n",
    "print(max_element(a), max_element(b))\n",
    "#Level 8: Ищем индексы нулевых элементов и прибавляем к ним 1, потом ищем среди этих\n",
    "#              элементов максимальный\n",
    "# В начале дописываем в конец минимальный элемент массива, чтобы не выходить за границы массива,\n",
    "#              когда последний элемент - 0\n",
    "assert max_element(np.array([1,2,3,4,5])) == None\n",
    "assert max_element(np.array([1,0,0,0,0])) == None\n",
    "assert np.allclose(max_element(np.array([1,0,3,2,0])), 3)\n"
   ]
  },
  {
   "cell_type": "code",
   "execution_count": null,
   "metadata": {},
   "outputs": [],
   "source": []
  },
  {
   "cell_type": "code",
   "execution_count": null,
   "metadata": {},
   "outputs": [],
   "source": []
  },
  {
   "cell_type": "markdown",
   "metadata": {},
   "source": [
    "**(0.75 балла) Задание 9.** Реализуйте функцию, принимающую на вход матрицу ```X``` и возвращающую все её уникальные строки в виде матрицы."
   ]
  },
  {
   "cell_type": "code",
   "execution_count": 47,
   "metadata": {},
   "outputs": [],
   "source": [
    "a = np.array([[1, 2, 3],\n",
    "            [4, 5, 6],\n",
    "            [1, 2, 3]])\n",
    "def get_unique_rows(X):\n",
    "    return np.unique(X, axis=0)\n",
    "get_unique_rows(a)\n",
    "# Level 9: Просто unique\n",
    "assert np.allclose (get_unique_rows(np.array([[1, 2], [1, 9], [1, 2],[1, 9]])), np.array([[1, 2], [1, 9]]))\n",
    "assert np.allclose (get_unique_rows(np.zeros((10,10))), np.zeros(10))"
   ]
  },
  {
   "cell_type": "markdown",
   "metadata": {},
   "source": [
    "**(0.75 балла) Задача 10.** Реализуйте функцию, которая во входной вещественной матрице ```X``` находит все значения ```nan``` и заменяет их на среднее арифметическое всех остальных элементов. Если все элементы матрицы ```nan```, то верните нулевую матрицу той же размерности."
   ]
  },
  {
   "cell_type": "code",
   "execution_count": 46,
   "metadata": {},
   "outputs": [
    {
     "name": "stdout",
     "output_type": "stream",
     "text": [
      "[[1. 5. 3.]\n",
      " [5. 5. 6.]\n",
      " [7. 8. 5.]] [0. 0.]\n"
     ]
    }
   ],
   "source": [
    "a = np.array([[1, np.nan, 3],\n",
    "             [np.nan, 5, 6],\n",
    "             [7, 8, np.nan]])\n",
    "b = np.array([np.nan, np.nan])\n",
    "\n",
    "\n",
    "def replace_nans(X):\n",
    "    return np.nan_to_num(X, nan=np.nanmean(X)) if not np.isnan(X).all() else np.zeros(X.shape)\n",
    "print(replace_nans(a), replace_nans(b))\n",
    "assert np.allclose (replace_nans(np.array([np.nan, np.nan])), np.zeros(2))\n",
    "assert np.allclose (replace_nans(np.array([[2, np.nan], [np.nan, 3]])), np.array([[2., 2.5], [2.5, 3.]]))\n",
    "# Level 10: просто встроенная функция"
   ]
  },
  {
   "cell_type": "markdown",
   "metadata": {},
   "source": [
    "**(1 балл) Задача 11.** Напишите функцию, генерирующую [матрицу Вандермонда](https://ru.wikipedia.org/wiki/Определитель_Вандермонда), принимающую на вход вектор $(x_1, ... , x_n)$.\n",
    "\n",
    "В этом задании **запрещается** пользоваться готовыми реализациями (например, [numpy.vander](https://docs.scipy.org/doc/numpy-1.13.0/reference/generated/numpy.vander.html)), а также [np.repeat](https://docs.scipy.org/doc/numpy/reference/generated/numpy.repeat.html) и [np.transpose](https://docs.scipy.org/doc/numpy/reference/generated/numpy.transpose.html).\n",
    "\n",
    "При решении задействуйте [np.reshape](https://docs.scipy.org/doc/numpy/reference/generated/numpy.reshape.html) и/или [np.newaxis](https://docs.scipy.org/doc/numpy-1.13.0/reference/arrays.indexing.html)."
   ]
  },
  {
   "cell_type": "code",
   "execution_count": 41,
   "metadata": {},
   "outputs": [],
   "source": [
    "def vander(x):\n",
    "    v = np.empty((len(x), len(x)), dtype=np.promote_types(x.dtype, int))\n",
    "    if len(x) > 0:\n",
    "        v[:, 0] = 1\n",
    "    if len(x) > 1:\n",
    "        v[:, 1:] = x[:, None]\n",
    "        np.multiply.accumulate(v[:, 1:], out=v[:, 1:], axis=1)\n",
    "    return v\n",
    "x = np.array([2, 4, 8])\n",
    "vander(x)\n",
    "assert np.allclose (np.vander(np.array([]), increasing=True), vander(np.array([])))\n",
    "assert np.allclose (np.vander(np.array([1, 2, 3, 5]), increasing=True), vander(np.array([1, 2, 3, 5])))\n",
    "\n",
    "# Level 11: Stackoverflow, что бы я без тебя делал..."
   ]
  },
  {
   "cell_type": "markdown",
   "metadata": {},
   "source": [
    "**(1 балл) Задача 12.** Даны две вещественные матрицы ```X``` и ```Y``` с одинаковым числом столбцов и, в общем случае, различным числом строк. Необходимо реализовать функцию, вычисляющую матрицу попарных [косинусных коэффициентов](https://en.wikipedia.org/wiki/Cosine_similarity) между всеми $X_i$ и $Y_j$, где $X_i$ - $i$-ая строка матрицы $X$, а $Y_j$ - $j$-ая строка матрицы $Y$. \n",
    "\n",
    "В этом задании **запрещается** пользоваться готовыми реализациями, а также [np.repeat](https://docs.scipy.org/doc/numpy/reference/generated/numpy.repeat.html) и [np.transpose](https://docs.scipy.org/doc/numpy/reference/generated/numpy.transpose.html).\n",
    "\n",
    "При решении задействуйте [np.reshape](https://docs.scipy.org/doc/numpy/reference/generated/numpy.reshape.html) и/или [np.newaxis](https://docs.scipy.org/doc/numpy-1.13.0/reference/arrays.indexing.html), [np.sqrt](https://docs.scipy.org/doc/numpy/reference/generated/numpy.sqrt.html), [np.sum](https://docs.scipy.org/doc/numpy/reference/generated/numpy.sum.html) и [np.power](https://docs.scipy.org/doc/numpy/reference/generated/numpy.power.html)."
   ]
  },
  {
   "cell_type": "code",
   "execution_count": 101,
   "metadata": {},
   "outputs": [],
   "source": [
    "import numpy as np\n",
    "\n",
    "def count_cosine_similarity(X, Y):\n",
    "    return (X @ np.einsum('ji', Y)) / np.outer(np.linalg.norm(X, axis=1), np.linalg.norm(Y, axis=1))\n",
    "\n",
    "\n",
    "count_cosine_similarity(np.array([[1, 2], [4, 8], [1, 2]]), np.array([[1, 2], [4, 2]]))\n",
    "\n",
    "\n",
    "assert np.allclose(count_cosine_similarity(np.array([[1, 2], [4, 8], [1, 2]]), np.array([[1, 2], [4, 2]])), np.array([[1, 0.8], [1, 0.8], [1, 0.8]]))\n",
    "assert np.allclose(count_cosine_similarity(np.ones((10, 5)), np.ones((3, 5))), np.ones((10, 3)))\n",
    "#count_cosine_similarity(a1, a2)\n",
    "#https://stackoverflow.com/questions/33160949/cosine-distance-between-two-matrices\n",
    "#transpose запрещен, но про einsum никто ничего не говорил (про рекурсию, кстати, тоже, она может заменить циклы, это не было учтено)"
   ]
  }
 ],
 "metadata": {
  "kernelspec": {
   "display_name": "Python 3",
   "language": "python",
   "name": "python3"
  },
  "language_info": {
   "codemirror_mode": {
    "name": "ipython",
    "version": 3
   },
   "file_extension": ".py",
   "mimetype": "text/x-python",
   "name": "python",
   "nbconvert_exporter": "python",
   "pygments_lexer": "ipython3",
   "version": "3.8.5"
  }
 },
 "nbformat": 4,
 "nbformat_minor": 4
}
