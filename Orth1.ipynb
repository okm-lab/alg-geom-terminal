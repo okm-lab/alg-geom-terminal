{
 "cells": [
  {
   "cell_type": "markdown",
   "metadata": {},
   "source": [
    "# Задание по лекциям 1.\n",
    "\n",
    "- Не нужно использовать эффективные вычислительные алгоритмы. Нужно использовать те алгоритмы, что были представлены на лекции или практических занятиях. \n",
    "- Остальное как обычно: за \"похожие\" решения всем задействованным 0 баллов; если используете решение из открытого источника — обязательно вставьте ссылку; не удаляйте формулировки; не выкладывайте в открытый источник.\n",
    "- Можно использовать `numpy.array` для матриц и матричной арифметики и `numpy.linalg` для подсчёта ранга и определителя, для вычисления обратной матрицы, решения СЛУ и т.п. То есть то, что вы уже реализовывали в прошлом семестре, ещё раз реализовывать необязательно. Более того, можно использовать в любом из *заданий по лекциям* функции, реализованные ранее в других *заданиях по лекциям*. Если возникнут сомнения, можно ли использовать ту или иную функцию — лучше сразу поинтересуйтесь у меня."
   ]
  },
  {
   "cell_type": "code",
   "execution_count": 1,
   "metadata": {},
   "outputs": [],
   "source": [
    "import numpy as np"
   ]
  },
  {
   "cell_type": "markdown",
   "metadata": {},
   "source": [
    "$\\mathbb{R}^n$ — вещественнозначное пространство вектор-**столбцов**."
   ]
  },
  {
   "cell_type": "markdown",
   "metadata": {},
   "source": [
    "**(1 балл) Задание 1.** Реализовать функцию, принимающую на вход два набора \n",
    "$$\n",
    "u = (u_1, \\ldots, u_n),\\ v = (v_1,\\ldots,v_n)\n",
    "$$\n",
    "координат векторов (в стандартном базисе) из пространства $\\mathbb{R}^n$, и выдающую \n",
    "- матрицу перехода от базиса $u$ к базису $v$, если оба этих набора являются базисами;\n",
    "- None, иначе (альтернативный вариант — кидать исключение)."
   ]
  },
  {
   "cell_type": "code",
   "execution_count": 132,
   "metadata": {},
   "outputs": [
    {
     "name": "stdout",
     "output_type": "stream",
     "text": [
      "[[ 29  85 120]\n",
      " [189 147 116]\n",
      " [105  71  33]]\n",
      "[[ 29  85 120]\n",
      " [189 147 116]\n",
      " [105  71  33]]\n"
     ]
    },
    {
     "data": {
      "text/plain": [
       "array([[ -4.2397286 ,   5.41072878,  -0.7300418 ],\n",
       "       [ 11.01685346,  -9.31501181,   4.97642212],\n",
       "       [-16.94507785,  15.97739141,  -8.23211971]])"
      ]
     },
     "execution_count": 132,
     "metadata": {},
     "output_type": "execute_result"
    }
   ],
   "source": [
    "basis1 = np.random.randint(250, size = (3, 3))\n",
    "basis2 = np.random.randint(250, size = (3, 3))\n",
    "\n",
    "def transition_matrix(basis1, basis2):\n",
    "    if np.abs(np.linalg.det(basis1) * np.linalg.det(basis2)) > 1e-6:\n",
    "        return np.dot(np.linalg.inv(basis1.transpose()), basis2.transpose())\n",
    "    raise(ValueError(\"det(A) or det(B) is zero!\"))\n",
    "\n",
    "print(basis1)\n",
    "print(basis1)\n",
    "transition_matrix(basis1, basis2)"
   ]
  },
  {
   "cell_type": "markdown",
   "metadata": {},
   "source": [
    "**(1 балл) Задание 2.** Реализовать функцию, принимающую на вход матрицу $A$ линейного оператора $\\varphi: \\mathbb{R}^n \\to \\mathbb{R}^n$ (в стандартном базисе) и набор координат $u = (u_1,\\ldots,u_n)$ вектор-столбцов, и выдающую \n",
    "- матрицу оператора $\\varphi$ в базисе $u$, если $u$ является базисом;\n",
    "- None, иначе (альтернативный вариант — кидать исключение)."
   ]
  },
  {
   "cell_type": "code",
   "execution_count": 133,
   "metadata": {},
   "outputs": [
    {
     "data": {
      "text/plain": [
       "array([[-10.52079242,  97.69522076, 107.51655909],\n",
       "       [215.20546929, 201.50632097, 308.46393497],\n",
       "       [ 37.86779217,   9.9024109 ,  18.01447146]])"
      ]
     },
     "execution_count": 133,
     "metadata": {},
     "output_type": "execute_result"
    }
   ],
   "source": [
    "def linear_transition(linear_operator_matrix, matrix):\n",
    "    if np.abs(np.linalg.det(matrix)) > 1e-6:\n",
    "        return np.dot(np.dot(np.linalg.inv(matrix), linear_operator_matrix), matrix)\n",
    "    raise(ValueError(\"Matrix determinant is zero!\"))\n",
    "\n",
    "linear_transition(basis1, basis2)"
   ]
  },
  {
   "cell_type": "markdown",
   "metadata": {},
   "source": [
    "**(1.5 балла) Задание 3.** Реализовать функции, которые по данной матрице $A$ линейного оператора $\\varphi: \\mathbb{R}^n \\to \\mathbb{R}^n$ в стандартном базисе, выдадут:\n",
    "\n",
    "- базис образа $\\varphi$ (0.5 балла)\n",
    "- базис ядра $\\varphi$ (0.75 балла)\n",
    "- размерности ядра и образа $\\varphi$ (0.25 балла)"
   ]
  },
  {
   "cell_type": "code",
   "execution_count": 134,
   "metadata": {},
   "outputs": [],
   "source": [
    "#Utility\n",
    "def find_zero(row: np.array, start: int, end: int):\n",
    "    for i in range(start, end):\n",
    "        if np.abs(row[i]) > 2e-4:\n",
    "            return i\n",
    "    return -1\n",
    "\n",
    "def gauss(matrix: np.array):\n",
    "    t, row_len, rows = 0, len(matrix[0]), len(matrix)\n",
    "    for i in range(min(rows, row_len)):\n",
    "        zero = find_zero(matrix[0:, i], t, rows)\n",
    "        if zero + 1: # check if row is not zero row\n",
    "            if t - zero:\n",
    "                matrix[[t, zero]] = matrix[[zero, t]]\n",
    "            for j in range(rows):\n",
    "                if j != t:\n",
    "                    matrix[j] -= matrix[t] * (matrix[j][i] / matrix[t][i])\n",
    "            t += 1"
   ]
  },
  {
   "cell_type": "code",
   "execution_count": 135,
   "metadata": {},
   "outputs": [],
   "source": [
    "#1\n",
    "def image_basis(matrix: np.array):\n",
    "    lst = []\n",
    "    gauss(matrix)\n",
    "    len_matrix = len(matrix)\n",
    "    for i in range(len_matrix):\n",
    "        if any(matrix[i]):\n",
    "            lst.append(matrix[i])\n",
    "    return np.array(lst)"
   ]
  },
  {
   "cell_type": "code",
   "execution_count": 136,
   "metadata": {},
   "outputs": [],
   "source": [
    "#2\n",
    "def kernel_basis(matrix: np):\n",
    "    lst, kkk = [], []\n",
    "    gauss(matrix)\n",
    "    len_matrix = len(matrix)\n",
    "    for i in range(len_matrix):\n",
    "        t = np.nonzero(matrix[0:, i])[0]\n",
    "        if len(t) - 1:\n",
    "            kkk.append(1)\n",
    "            continue\n",
    "        matrix[t[0]] /= matrix[t[0]][i]\n",
    "        kkk.append(0)\n",
    "    t = np.nonzero(kkk)[0]\n",
    "    for i in range(np.sum(kkk)):\n",
    "        lst.append([])\n",
    "        for j in range(len_matrix):\n",
    "            if not j in t:\n",
    "                lst[i].append(-1 * matrix[j][t[i]])\n",
    "            elif t[i] == j:\n",
    "                lst[i].append(1)\n",
    "            else:\n",
    "                lst[i].append(0)\n",
    "    return np.array(lst)"
   ]
  },
  {
   "cell_type": "code",
   "execution_count": 137,
   "metadata": {},
   "outputs": [],
   "source": [
    "#3\n",
    "def kernel_image_dims(matrix: np.array):\n",
    "    k = len(image_basis(matrix))\n",
    "    return len(matrix) - k, k"
   ]
  },
  {
   "cell_type": "code",
   "execution_count": 138,
   "metadata": {},
   "outputs": [
    {
     "data": {
      "text/plain": [
       "(2, 2)"
      ]
     },
     "execution_count": 138,
     "metadata": {},
     "output_type": "execute_result"
    }
   ],
   "source": [
    "kernel_image_dims(np.array([[2, 0., 1, 5], [1, 2, 0, 3], [5, 2, 2, 13], [-3, -2, -1, -8]]))"
   ]
  },
  {
   "cell_type": "code",
   "execution_count": null,
   "metadata": {},
   "outputs": [],
   "source": []
  }
 ],
 "metadata": {
  "celltoolbar": "Create Assignment",
  "kernelspec": {
   "display_name": "Python 3",
   "language": "python",
   "name": "python3"
  },
  "language_info": {
   "codemirror_mode": {
    "name": "ipython",
    "version": 3
   },
   "file_extension": ".py",
   "mimetype": "text/x-python",
   "name": "python",
   "nbconvert_exporter": "python",
   "pygments_lexer": "ipython3",
   "version": "3.8.5"
  },
  "toc": {
   "base_numbering": 1,
   "nav_menu": {},
   "number_sections": true,
   "sideBar": true,
   "skip_h1_title": false,
   "title_cell": "Table of Contents",
   "title_sidebar": "Contents",
   "toc_cell": false,
   "toc_position": {},
   "toc_section_display": true,
   "toc_window_display": false
  }
 },
 "nbformat": 4,
 "nbformat_minor": 4
}
