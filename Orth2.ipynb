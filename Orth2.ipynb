{
 "cells": [
  {
   "cell_type": "markdown",
   "metadata": {},
   "source": [
    "# Задание по лекциям 2.\n",
    "\n",
    "- Не нужно использовать эффективные вычислительные алгоритмы. Нужно использовать те алгоритмы, что были представлены на лекции или практических занятиях. \n",
    "- Остальное как обычно: за \"похожие\" решения всем задействованным 0 баллов; если используете решение из открытого источника — обязательно вставьте ссылку; не удаляйте формулировки; не выкладывайте в открытый источник.\n",
    "- Можно использовать `numpy.array` для матриц и матричной арифметики и `numpy.linalg` для подсчёта ранга и определителя, для вычисления обратной матрицы, решения СЛУ и т.п. То есть то, что вы уже реализовывали в прошлом семестре, ещё раз реализовывать необязательно. Более того, можно использовать в любом из *заданий по лекциям* функции, реализованные ранее в других *заданиях по лекциям*. Если возникнут сомнения, можно ли использовать ту или иную функцию — лучше сразу поинтересуйтесь у меня."
   ]
  },
  {
   "cell_type": "code",
   "execution_count": 1,
   "metadata": {},
   "outputs": [],
   "source": [
    "import numpy as np\n",
    "from math import sqrt"
   ]
  },
  {
   "cell_type": "markdown",
   "metadata": {},
   "source": [
    "$\\mathbb{R}^n$ — вещественнозначное пространство вектор-**столбцов** со стандартным скалярным произведением."
   ]
  },
  {
   "cell_type": "markdown",
   "metadata": {},
   "source": [
    "**(1 балл) Задание 5.** Реализовать функцию, принимающую на вход набор координат $u = (u_1,\\ldots,u_k),\\ k\\le n$ вектор-столбцов, и выдающую базис $$v = (v_1,\\ldots,v_m),\\ m \\ge n-k,$$\n",
    "ортогонального дополнения  для линейной оболочки данных векторов."
   ]
  },
  {
   "cell_type": "code",
   "execution_count": 197,
   "metadata": {},
   "outputs": [
    {
     "data": {
      "text/plain": [
       "array([[-0.,  1., -0.,  0.],\n",
       "       [-0.,  0., -0.,  1.]])"
      ]
     },
     "execution_count": 197,
     "metadata": {},
     "output_type": "execute_result"
    }
   ],
   "source": [
    "def find_zero(row: np.array, start: int, end: int):\n",
    "    for i in range(start, end):\n",
    "        if np.abs(row[i]) > 2e-4:\n",
    "            return i\n",
    "    return -1\n",
    "\n",
    "\n",
    "def gauss(matrix: np.array):\n",
    "    t, row_len, rows = 0, len(matrix[0]), len(matrix)\n",
    "    for i in range(min(rows, row_len)):\n",
    "        zero = find_zero(matrix[0:, i], t, rows)\n",
    "        if zero + 1: # check if row is not zero row\n",
    "            if t - zero:\n",
    "                matrix[[t, zero]] = matrix[[zero, t]]\n",
    "            for j in range(rows):\n",
    "                if j != t:\n",
    "                    matrix[j] -= matrix[t] * (matrix[j][i] / matrix[t][i])\n",
    "            t += 1\n",
    "\n",
    "\n",
    "def orthogonal_addition_basis(matrix: np.array):\n",
    "    matrix, lst, kkk, len_matrix = matrix.copy(), [], [], len(matrix)\n",
    "    gauss(matrix)\n",
    "    for i in range(len_matrix):\n",
    "        t = np.nonzero(matrix[0:, i])[0]\n",
    "        if len(t) - 1:\n",
    "            kkk.append(1)\n",
    "            continue\n",
    "        matrix[t[0]] /= matrix[t[0]][i]\n",
    "        kkk.append(0)\n",
    "        \n",
    "    t = np.nonzero(kkk)[0]\n",
    "    for i in range(np.sum(kkk)):\n",
    "        lst.append([])\n",
    "        for j in range(len(matrix)):\n",
    "            if not j in t:\n",
    "                lst[i].append(-1 * matrix[j][t[i]])\n",
    "            elif t[i] == j:\n",
    "                lst[i].append(1)\n",
    "            else:\n",
    "                lst[i].append(0)\n",
    "    return np.array(lst)\n",
    "\n",
    "orthogonal_addition_basis(np.array([[2, 0, 2, 0], [4, 0, 3, 0], [0, 0, 1, 0.], [3, 0, 0, 0]]))"
   ]
  },
  {
   "cell_type": "markdown",
   "metadata": {},
   "source": [
    "**(1 балл) Задание 6.** Реализовать функцию, принимающую на вход набор координат $u = (u_1,\\ldots,u_k),\\ k\\le n$ вектор-столбцов, и выдающую ортонормированный базис $$v = (v_1,\\ldots,v_m),\\ m \\ge n-k,$$\n",
    "для линейной оболочки данных векторов."
   ]
  },
  {
   "cell_type": "code",
   "execution_count": 115,
   "metadata": {},
   "outputs": [
    {
     "data": {
      "text/plain": [
       "array([[ 0.12403473,  0.        ,  0.        ,  0.99227788],\n",
       "       [ 0.97986914, -0.15765221,  0.        , -0.12248364],\n",
       "       [-0.08835308, -0.5577288 , -0.82523351,  0.01104413]])"
      ]
     },
     "execution_count": 115,
     "metadata": {},
     "output_type": "execute_result"
    }
   ],
   "source": [
    "def orthonorm_basis(matrix: np.array):\n",
    "    matrix = matrix.copy()\n",
    "    gauss(matrix)\n",
    "    matrix = matrix[:np.linalg.matrix_rank(matrix)]\n",
    "    len_matrix = len(matrix)\n",
    "    for i in range(len_matrix):\n",
    "        for j in range(i):\n",
    "            matrix[i] -= (np.dot(matrix[i], matrix[j] / np.dot(matrix[j], matrix[j]))) * matrix[j]\n",
    "        matrix[i] /= np.sqrt(np.sum(matrix[i]*matrix[i]))\n",
    "    return matrix\n",
    "\n",
    "orthonorm_basis(np.array([[1, 2, 3, 4], [6, 4, 7, 5], [1, 0, 0, 8.], [5, 2, 4, 1]]))"
   ]
  },
  {
   "cell_type": "markdown",
   "metadata": {},
   "source": [
    "**(1 балл) Задание 7.** Реализовать функцию, принимающую на вход набор координат $u = (u_1,\\ldots,u_k),\\ k\\le n$ линейно независимых вектор-столбцов, и выдающую ортонормированный базис $$v = (v_1,\\ldots,v_n)$$\n",
    "всего пространства, такой что линейная оболочка векторов $(v_1,\\ldots,v_k)$ совпадает с линейной оболочкой векторов $(u_1,\\ldots,u_k)$."
   ]
  },
  {
   "cell_type": "code",
   "execution_count": 196,
   "metadata": {},
   "outputs": [
    {
     "data": {
      "text/plain": [
       "array([[ 0.4472136 ,  0.        ,  0.        ,  0.89442719],\n",
       "       [-0.88721395,  0.12674485,  0.        ,  0.44360698],\n",
       "       [ 0.05997918,  0.5248178 ,  0.84856903, -0.02998959],\n",
       "       [-0.09619721, -0.84172562,  0.52908468,  0.04809861]])"
      ]
     },
     "execution_count": 196,
     "metadata": {},
     "output_type": "execute_result"
    }
   ],
   "source": [
    "def orthonorm_basis_task7(matrix: np.array):\n",
    "    t = list(orthonorm_basis(matrix))\n",
    "    t.append(orthonorm_basis(orthogonal_addition_basis(matrix))[0])\n",
    "    return np.array(t)\n",
    "    \n",
    "orthonorm_basis_task7(np.array([[1, 0, 0, 2.], [1, 2, 3, 4], [5, 2, 4, 1], [6, 4, 7, 5]]))"
   ]
  },
  {
   "cell_type": "code",
   "execution_count": null,
   "metadata": {},
   "outputs": [],
   "source": []
  }
 ],
 "metadata": {
  "celltoolbar": "Create Assignment",
  "kernelspec": {
   "display_name": "Python 3",
   "language": "python",
   "name": "python3"
  },
  "language_info": {
   "codemirror_mode": {
    "name": "ipython",
    "version": 3
   },
   "file_extension": ".py",
   "mimetype": "text/x-python",
   "name": "python",
   "nbconvert_exporter": "python",
   "pygments_lexer": "ipython3",
   "version": "3.8.5"
  },
  "toc": {
   "base_numbering": 1,
   "nav_menu": {},
   "number_sections": true,
   "sideBar": true,
   "skip_h1_title": false,
   "title_cell": "Table of Contents",
   "title_sidebar": "Contents",
   "toc_cell": false,
   "toc_position": {},
   "toc_section_display": true,
   "toc_window_display": false
  }
 },
 "nbformat": 4,
 "nbformat_minor": 4
}
